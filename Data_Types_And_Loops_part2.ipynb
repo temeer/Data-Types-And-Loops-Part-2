{
 "cells": [
  {
   "cell_type": "code",
   "execution_count": 3,
   "metadata": {},
   "outputs": [],
   "source": [
    "# Задание 1\n",
    "# Дана переменная, в которой хранится словарь, содержащий гео-метки для каждого пользователя (пример структуры данных приведен ниже). Вам необходимо написать программу, которая выведет на экран множество уникальных гео-меток всех пользователей.\n",
    "\n",
    "# Пример работы программы:\n",
    "\n",
    "# ids = {‘user1’: [213, 213, 213, 15, 213],\n",
    "# ‘user2’: [54, 54, 119, 119, 119],\n",
    "# ‘user3’: [213, 98, 98, 35]}\n",
    "# Результат: {98, 35, 15, 213, 54, 119}\n"
   ]
  },
  {
   "cell_type": "code",
   "execution_count": 6,
   "metadata": {
    "tags": []
   },
   "outputs": [
    {
     "output_type": "stream",
     "name": "stdout",
     "text": "{'user1': [213, 213, 213, 15, 213], 'user2': [54, 54, 119, 119, 119], 'user3': [213, 98, 98, 35]}\n"
    }
   ],
   "source": [
    "ids = {\"user1\": [213, 213, 213, 15, 213],\n",
    "\"user2\": [54, 54, 119, 119, 119],\n",
    "\"user3\": [213, 98, 98, 35]}\n",
    "Результат: {98, 35, 15, 213, 54, 119}\n",
    "print(ids)"
   ]
  },
  {
   "cell_type": "code",
   "execution_count": 24,
   "metadata": {
    "tags": []
   },
   "outputs": [],
   "source": [
    "for key,value in ids.items():\n",
    "    ids[key]=list(set(value))\n",
    "#последнее преобразование в list можно не делать"
   ]
  },
  {
   "cell_type": "code",
   "execution_count": 25,
   "metadata": {
    "tags": []
   },
   "outputs": [
    {
     "output_type": "stream",
     "name": "stdout",
     "text": "{'user1': [213, 15], 'user2': [54, 119], 'user3': [98, 35, 213]}\n"
    }
   ],
   "source": [
    "print(ids)"
   ]
  },
  {
   "cell_type": "code",
   "execution_count": 26,
   "metadata": {},
   "outputs": [],
   "source": [
    "#Задание 2\n",
    "\n",
    "# Дана переменная, в которой хранится список поисковых запросов пользователя (пример структуры данных приведен ниже). Вам необходимо написать программу, которая выведет на экран распределение количества слов в запросах в требуемом виде.\n",
    "\n",
    "# Пример работы программы:\n",
    "\n",
    "# queries = [\n",
    "# ‘смотреть сериалы онлайн’,\n",
    "# ‘новости спорта’,\n",
    "# ‘афиша кино’,\n",
    "# ‘курс доллара’,\n",
    "# ‘сериалы этим летом’,\n",
    "# ‘курс по питону’,\n",
    "# ‘сериалы про спорт’,\n",
    "# ]\n",
    "# Результат:\n",
    "\n",
    "# Поисковых запросов, содержащих 2 слов(а): 42.86%\n",
    "# Поисковых запросов, содержащих 3 слов(а): 57.14%\n",
    "\n"
   ]
  },
  {
   "cell_type": "code",
   "execution_count": 41,
   "metadata": {
    "tags": []
   },
   "outputs": [
    {
     "output_type": "stream",
     "name": "stdout",
     "text": "Поисковых запросов, содержащих 2 слов:  42.857142857142854\nПоисковых запросов, содержащих 3 слов:  57.14285714285714\n"
    }
   ],
   "source": [
    "queries = [\n",
    "\"смотреть сериалы онлайн\",\n",
    "\"новости спорта\",\n",
    "\"афиша кино\",\n",
    "\"курс доллара\",\n",
    "\"сериалы этим летом\",\n",
    "\"курс по питону\",\n",
    "\"сериалы про спорт\",\n",
    "]\n",
    "counts = []\n",
    "l = []\n",
    "qlen = len(queries)\n",
    "for q in queries:\n",
    "    counts.append(len(q.split()))\n",
    "\n",
    "for el in range(1, max(counts)+1):\n",
    "    c = counts.count(el)    \n",
    "    if c != 0:\n",
    "        l.append([el, c/qlen*100])\n",
    "\n",
    "for el in l:\n",
    "    print('Поисковых запросов, содержащих', el[0], 'слов: ', el[1])\n"
   ]
  },
  {
   "cell_type": "code",
   "execution_count": 42,
   "metadata": {},
   "outputs": [],
   "source": [
    "\n",
    "# Задание 3\n",
    "# Дана переменная, в которой хранится информация о затратах и доходе рекламных кампаний по различным источникам. Необходимо дополнить исходную структуру показателем ROI, который рассчитаем по формуле: (revenue / cost - 1) * 100\n",
    "\n",
    "# Пример работы программы:\n",
    "\n",
    "# results = {\n",
    "# ‘vk’: {‘revenue’: 103, ‘cost’: 98},\n",
    "# ‘yandex’: {‘revenue’: 179, ‘cost’: 153},\n",
    "# ‘facebook’: {‘revenue’: 103, ‘cost’: 110},\n",
    "# ‘adwords’: {‘revenue’: 35, ‘cost’: 34},\n",
    "# ‘twitter’: {‘revenue’: 11, ‘cost’: 24},\n",
    "# }\n",
    "# Результат:\n",
    "\n",
    "# {‘adwords’: {‘ROI’: 2.94, ‘cost’: 34, ‘revenue’: 35},\n",
    "# ‘facebook’: {‘ROI’: -6.36, ‘cost’: 110, ‘revenue’: 103},\n",
    "# ‘twitter’: {‘ROI’: -54.17, ‘cost’: 24, ‘revenue’: 11},\n",
    "# ‘vk’: {‘ROI’: 5.1, ‘cost’: 98, ‘revenue’: 103},\n",
    "# ‘yandex’: {‘ROI’: 16.99, ‘cost’: 153, ‘revenue’: 179}}"
   ]
  },
  {
   "cell_type": "code",
   "execution_count": 50,
   "metadata": {},
   "outputs": [
    {
     "output_type": "execute_result",
     "data": {
      "text/plain": "{'vk': {'revenue': 103, 'cost': 98, 'ROI': 5.102040816326525},\n 'yandex': {'revenue': 179, 'cost': 153, 'ROI': 16.99346405228759},\n 'facebook': {'revenue': 103, 'cost': 110, 'ROI': -6.36363636363636},\n 'adwords': {'revenue': 35, 'cost': 34, 'ROI': 2.941176470588225},\n 'twitter': {'revenue': 11, 'cost': 24, 'ROI': -54.16666666666667}}"
     },
     "metadata": {},
     "execution_count": 50
    }
   ],
   "source": [
    "results = {\n",
    "\"vk\": {\"revenue\": 103, \"cost\": 98},\n",
    "\"yandex\": {\"revenue\": 179, \"cost\": 153},\n",
    "\"facebook\": {\"revenue\": 103, \"cost\": 110},\n",
    "\"adwords\": {\"revenue\": 35, \"cost\": 34},\n",
    "\"twitter\": {\"revenue\": 11, \"cost\": 24},\n",
    "}\n",
    "for key, value in results.items():\n",
    "    value[\"ROI\"]=(value[\"revenue\"]/value[\"cost\"]-1)*100\n",
    "results"
   ]
  },
  {
   "cell_type": "code",
   "execution_count": 53,
   "metadata": {},
   "outputs": [],
   "source": [
    "# Задание 4\n",
    "# Дана переменная, в которой хранится статистика рекламных каналов по объемам продаж (пример структуры данных приведен ниже). Напишите программу, которая возвращает название канала с максимальным объемом продаж.\n",
    "\n",
    "# Пример работы программы:\n",
    "\n",
    "# stats = {‘facebook’: 55, ‘yandex’: 115, ‘vk’: 120, ‘google’: 99, ‘email’: 42, ‘ok’: 98}\n",
    "\n",
    "# Результат: Максимальный объем продаж на рекламном канале: vk\n",
    "\n",
    "\n"
   ]
  },
  {
   "cell_type": "code",
   "execution_count": 58,
   "metadata": {},
   "outputs": [
    {
     "output_type": "execute_result",
     "data": {
      "text/plain": "['vk']"
     },
     "metadata": {},
     "execution_count": 58
    }
   ],
   "source": [
    "stats = {\"facebook\": 55, \"yandex\": 115, \"vk\": 120, \"google\": 99, \"email\": 42, \"ok\": 98}\n",
    "maxsells = max([value for key,value in stats.items()])\n",
    "[key for key,value in stats.items() if value == maxsells]"
   ]
  },
  {
   "cell_type": "code",
   "execution_count": 59,
   "metadata": {},
   "outputs": [],
   "source": [
    "#Задание 5\n",
    "# Дан список произвольной длины. Необходимо написать код, который на основе исходного списка составит словарь такого уровня вложенности, какова длина исхондого списка.\n",
    "\n",
    "# Примеры работы программы:\n",
    "\n",
    "# my_list = [‘2018-01-01’, ‘yandex’, ‘cpc’, 100]\n",
    "# Результат: {‘2018-01-01’: {‘yandex’: {‘cpc’: 100}}}\n",
    "\n",
    "# my_list = [‘a’, ‘b’, ‘c’, ‘d’, ‘e’, ‘f’]\n",
    "# Результат: {‘a’: {‘b’: {‘c’: {‘d’: {‘e’: ‘f’}}}}}\n"
   ]
  },
  {
   "cell_type": "code",
   "execution_count": 83,
   "metadata": {
    "tags": []
   },
   "outputs": [
    {
     "output_type": "stream",
     "name": "stdout",
     "text": "{}\n"
    },
    {
     "output_type": "execute_result",
     "data": {
      "text/plain": "{'a': {'b': {'c': {'d': {'e': 'f'}}}}}"
     },
     "metadata": {},
     "execution_count": 83
    }
   ],
   "source": [
    "my_list = [\"2018-01-01\", \"yandex\", \"cpc\", 100]\n",
    "#my_list = [\"a\", \"b\", \"c\", \"d\", \"e\", \"f\"]\n",
    "my_list1 = my_list[0:len(my_list)-1]\n",
    "current_last = my_list [-1]\n",
    "#dict1 = dict(1,1)\n",
    "print(dict1)\n",
    "for el in reversed(my_list1):\n",
    "    current_last = {el:current_last}\n",
    "current_last"
   ]
  },
  {
   "cell_type": "code",
   "execution_count": null,
   "metadata": {},
   "outputs": [],
   "source": []
  }
 ],
 "metadata": {
  "kernelspec": {
   "name": "Python 3.7.4 64-bit ('base': conda)",
   "display_name": "Python 3.7.4 64-bit ('base': conda)",
   "metadata": {
    "interpreter": {
     "hash": "b3ba2566441a7c06988d0923437866b63cedc61552a5af99d1f4fb67d367b25f"
    }
   }
  }
 },
 "nbformat": 4,
 "nbformat_minor": 4
}